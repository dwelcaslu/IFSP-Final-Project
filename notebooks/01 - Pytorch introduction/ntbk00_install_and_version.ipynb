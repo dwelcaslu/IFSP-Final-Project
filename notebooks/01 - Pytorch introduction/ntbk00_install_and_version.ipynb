{
 "cells": [
  {
   "cell_type": "markdown",
   "id": "42932fdd-7ebb-4585-b8d3-cde7b8f4b9af",
   "metadata": {},
   "source": [
    "Link:\n",
    "https://machinelearningmastery.com/pytorch-tutorial-develop-deep-learning-models/"
   ]
  },
  {
   "cell_type": "markdown",
   "id": "4bf6d66a-0816-4ca5-8da9-2a08d7046b19",
   "metadata": {},
   "source": [
    "pip install torch"
   ]
  },
  {
   "cell_type": "markdown",
   "id": "1f4e15f7-6b86-4ac9-924f-e1737cd8831a",
   "metadata": {},
   "source": [
    "pip install torchvision"
   ]
  },
  {
   "cell_type": "code",
   "execution_count": 1,
   "id": "5bddee86-28e1-4988-b816-d181073743d0",
   "metadata": {},
   "outputs": [
    {
     "name": "stdout",
     "output_type": "stream",
     "text": [
      "1.12.1+cpu\n"
     ]
    }
   ],
   "source": [
    "# check pytorch version\n",
    "import torch\n",
    "print(torch.__version__)"
   ]
  },
  {
   "cell_type": "code",
   "execution_count": null,
   "id": "65355101-b128-44ba-b5bc-ce8c528aef01",
   "metadata": {},
   "outputs": [],
   "source": []
  }
 ],
 "metadata": {
  "kernelspec": {
   "display_name": "Python 3 (ipykernel)",
   "language": "python",
   "name": "python3"
  },
  "language_info": {
   "codemirror_mode": {
    "name": "ipython",
    "version": 3
   },
   "file_extension": ".py",
   "mimetype": "text/x-python",
   "name": "python",
   "nbconvert_exporter": "python",
   "pygments_lexer": "ipython3",
   "version": "3.8.5"
  }
 },
 "nbformat": 4,
 "nbformat_minor": 5
}
