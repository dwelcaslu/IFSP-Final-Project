{
 "cells": [
  {
   "cell_type": "code",
   "execution_count": null,
   "id": "d379b17c-afad-4e1f-aff7-1e201a3a8ae6",
   "metadata": {},
   "outputs": [],
   "source": [
    "import os, sys\n",
    "sys.path.append('../../src')\n",
    "\n",
    "import json\n",
    "from datetime import datetime\n",
    "import pandas as pd\n",
    "\n",
    "import visualization.visualize as vis\n",
    "from data.load_dataset import load_dataset\n",
    "from models.train_model import get_dataloaders, set_and_train_model\n",
    "from models.model import get_model, evaluate_model, save_model"
   ]
  },
  {
   "cell_type": "code",
   "execution_count": null,
   "id": "e7eb1e1d-4060-4ea4-b71b-c91edca01876",
   "metadata": {},
   "outputs": [],
   "source": []
  },
  {
   "cell_type": "markdown",
   "id": "73ea54a0-6361-4489-bee0-397a397f84c9",
   "metadata": {},
   "source": [
    "## Running all databases and rounds"
   ]
  },
  {
   "cell_type": "code",
   "execution_count": null,
   "id": "f034b1bd-3295-4e19-9511-142b3a45c80b",
   "metadata": {},
   "outputs": [],
   "source": [
    "num_epochs = 30\n",
    "base_path = '../../models/local_models/'"
   ]
  },
  {
   "cell_type": "code",
   "execution_count": null,
   "id": "15fc7cd1-4b74-4bf4-bdac-691498f3e295",
   "metadata": {},
   "outputs": [],
   "source": []
  },
  {
   "cell_type": "code",
   "execution_count": null,
   "id": "6d5add4e-0d46-4366-b47a-395f1468dcc4",
   "metadata": {},
   "outputs": [],
   "source": [
    "exec_time = datetime.now()\n",
    "exec_id = f'{exec_time.year}-{exec_time.month}-{exec_time.day}_{exec_time.hour}h{exec_time.minute}m{exec_time.second}s'\n",
    "base_path = os.path.join(base_path, f'{exec_id}/')\n",
    "if not os.path.isdir(base_path):\n",
    "    os.mkdir(base_path)\n",
    "    print(base_path, 'folder created.')\n",
    "\n",
    "model_predictions = []\n",
    "# round_number_list = [1,2]\n",
    "# site_number_list = [1,2]\n",
    "round_number_list = [1,2,3,4,5]\n",
    "site_number_list = [1,2,3,4,5]\n",
    "for round_number in round_number_list:\n",
    "    for site_number in site_number_list:\n",
    "\n",
    "        print(f'\\n\\nTraining round_number {round_number} site_number {site_number}:')\n",
    "        model_id = f'local_model_round-{round_number}_site-{site_number}'\n",
    "        model_id_old = f'local_model_round-{round_number-1}_site-{site_number}'\n",
    "        model_name = f'{exec_id}_{model_id}'\n",
    "        model_name_old = f'{exec_id}_{model_id_old}'\n",
    "        \n",
    "        df = load_dataset(site_number)\n",
    "        dataloaders, db_sizes = get_dataloaders(df, round_number, test_all_rounds=True)\n",
    "\n",
    "        ### Visualize a few images\n",
    "        # Let's visualize a few training images so as to understand the data augmentations.\n",
    "        # vis.plot_samples(dataloaders['train'], title=f'site_number {site_number} round_number {round_number} samples')        \n",
    "        \n",
    "        # Train the model\n",
    "        model = get_model(model_name=model_name_old, base_path=base_path)\n",
    "        model, model_hist = set_and_train_model(model, dataloaders, num_epochs=num_epochs)\n",
    "        vis.plot_model_hist(model_hist, f'Baseline Model site_number: {site_number} round_number: {round_number}')\n",
    "        \n",
    "        # Evaluate model predictions\n",
    "        predictions = evaluate_model(model, dataloaders, split='test')\n",
    "        predictions['round_number'] = round_number; predictions['site_number'] = site_number\n",
    "        model_predictions.append(predictions)\n",
    "        # Saving current model:\n",
    "        save_model(model, model_name, base_path=base_path)"
   ]
  },
  {
   "cell_type": "code",
   "execution_count": null,
   "id": "71a65c97-31fa-4b29-afb5-ceeca824d45d",
   "metadata": {},
   "outputs": [],
   "source": []
  },
  {
   "cell_type": "code",
   "execution_count": null,
   "id": "8e78003c-ced9-4352-8bd4-ba076464e343",
   "metadata": {},
   "outputs": [],
   "source": [
    "# Saving predictions report:\n",
    "json_filepath = f'{base_path}{exec_id}_predictions.json'\n",
    "with open(json_filepath, 'w') as outfile:\n",
    "    json.dump(model_predictions, outfile)"
   ]
  },
  {
   "cell_type": "code",
   "execution_count": null,
   "id": "1de4da8e-56d2-4c68-bf8f-eec663b5ae24",
   "metadata": {},
   "outputs": [],
   "source": [
    "with open(json_filepath) as json_file:\n",
    "    data = json.load(json_file)\n",
    "model_predictions_ = pd.DataFrame(data)\n",
    "model_predictions_"
   ]
  },
  {
   "cell_type": "code",
   "execution_count": null,
   "id": "905afa7a-14ae-4e6d-85e1-7c073ba3c990",
   "metadata": {},
   "outputs": [],
   "source": []
  }
 ],
 "metadata": {
  "kernelspec": {
   "display_name": "Python 3 (ipykernel)",
   "language": "python",
   "name": "python3"
  },
  "language_info": {
   "codemirror_mode": {
    "name": "ipython",
    "version": 3
   },
   "file_extension": ".py",
   "mimetype": "text/x-python",
   "name": "python",
   "nbconvert_exporter": "python",
   "pygments_lexer": "ipython3",
   "version": "3.8.5"
  }
 },
 "nbformat": 4,
 "nbformat_minor": 5
}
