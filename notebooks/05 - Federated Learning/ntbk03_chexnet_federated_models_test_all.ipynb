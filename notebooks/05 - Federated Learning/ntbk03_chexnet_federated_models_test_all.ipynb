{
 "cells": [
  {
   "cell_type": "code",
   "execution_count": null,
   "id": "d379b17c-afad-4e1f-aff7-1e201a3a8ae6",
   "metadata": {},
   "outputs": [],
   "source": [
    "import os, sys\n",
    "sys.path.append('../../src')\n",
    "\n",
    "from datetime import datetime\n",
    "import pandas as pd\n",
    "\n",
    "import visualization.visualize as vis\n",
    "from data.load_dataset import load_dataset\n",
    "from models.train_model import get_dataloaders, set_and_train_model\n",
    "from models.model import get_model, evaluate_model, save_model\n",
    "from federated.federated_learning import get_federated_avg_model"
   ]
  },
  {
   "cell_type": "code",
   "execution_count": null,
   "id": "4cf5a659-1ce2-4c71-aed7-ef61fbb9cbcf",
   "metadata": {},
   "outputs": [],
   "source": []
  },
  {
   "cell_type": "markdown",
   "id": "73ea54a0-6361-4489-bee0-397a397f84c9",
   "metadata": {},
   "source": [
    "## Running all databases and rounds"
   ]
  },
  {
   "cell_type": "code",
   "execution_count": null,
   "id": "f034b1bd-3295-4e19-9511-142b3a45c80b",
   "metadata": {},
   "outputs": [],
   "source": [
    "num_epochs = 30\n",
    "base_path='../../models/federated_models/'"
   ]
  },
  {
   "cell_type": "code",
   "execution_count": null,
   "id": "a501df1b-c5d0-4622-be47-b642334fe871",
   "metadata": {},
   "outputs": [],
   "source": []
  },
  {
   "cell_type": "code",
   "execution_count": null,
   "id": "6d5add4e-0d46-4366-b47a-395f1468dcc4",
   "metadata": {},
   "outputs": [],
   "source": [
    "exec_time = datetime.now()\n",
    "exec_id = f'{exec_time.year}-{exec_time.month}-{exec_time.day}_{exec_time.hour}h{exec_time.minute}m{exec_time.second}s'\n",
    "base_path = os.path.join(base_path, f'{exec_id}/')\n",
    "if not os.path.isdir(base_path):\n",
    "    os.mkdir(base_path)\n",
    "    print(base_path, 'folder created.')\n",
    "\n",
    "training_stats = []\n",
    "round_number_list = [1,2,3,4,5]\n",
    "site_number_list = [1,2,3,4,5]\n",
    "for round_number in round_number_list:\n",
    "    model_id = f'fed_model_round-{round_number}'\n",
    "    model_id_old = f'fed_model_round-{round_number-1}'\n",
    "    model_name = f'{exec_id}_{model_id}'\n",
    "    model_name_old = f'{exec_id}_{model_id_old}'\n",
    "    local_models = []\n",
    "    local_train_db_sizes = []\n",
    "\n",
    "    for site_number in site_number_list:\n",
    "        print(f'\\n\\nTraining round_number {round_number} site_number {site_number}:')\n",
    "        df = load_dataset(site_number)\n",
    "        dataloaders, db_sizes = get_dataloaders(df, round_number, test_all_rounds=True)\n",
    "\n",
    "        ### Visualize a few images\n",
    "        # Let's visualize a few training images so as to understand the data augmentations.\n",
    "        # vis.plot_samples(dataloaders['train'], title=f'site_number {site_number} round_number {round_number} samples')        \n",
    "        \n",
    "        # Train the model\n",
    "        model = get_model(model_name=model_name_old, base_path=base_path)\n",
    "        model, model_hist = set_and_train_model(model, dataloaders, num_epochs=num_epochs)\n",
    "        # vis.plot_model_hist(model_hist, f'Baseline Model site_number: {site_number} round_number: {round_number}')\n",
    "        \n",
    "        local_models.append(model)\n",
    "        local_train_db_sizes.append(db_sizes['train'])\n",
    "    \n",
    "    fed_model = get_federated_avg_model(local_models, local_train_db_sizes)\n",
    "\n",
    "    for site_number in site_number_list:\n",
    "        print(f'\\nEvaluating round_number {round_number} site_number {site_number}:')\n",
    "        df = load_dataset(site_number)\n",
    "        dataloaders, _ = get_dataloaders(df, round_number)\n",
    "\n",
    "        # Evaluate model predictions\n",
    "        model_stats = evaluate_model(fed_model, dataloaders, split='test')\n",
    "        model_stats['round_number'] = round_number; model_stats['site_number'] = site_number\n",
    "        training_stats.append(model_stats)\n",
    "\n",
    "    # Saving current model:\n",
    "    save_model(model, model_name, base_path=base_path)"
   ]
  },
  {
   "cell_type": "code",
   "execution_count": null,
   "id": "7aa380bb-82a8-490f-9b6d-673226fd0c9c",
   "metadata": {},
   "outputs": [],
   "source": []
  },
  {
   "cell_type": "code",
   "execution_count": null,
   "id": "1cda91a5-079f-44c5-ae7e-827e14c4c139",
   "metadata": {},
   "outputs": [],
   "source": [
    "# Saving statistics report:\n",
    "training_stats = pd.DataFrame(training_stats)\n",
    "training_stats.to_csv(f'{base_path}{exec_id}_training_stats.csv', index=False)\n",
    "\n",
    "training_stats"
   ]
  },
  {
   "cell_type": "code",
   "execution_count": null,
   "id": "07c1c4ec-5f4c-4c0e-9ea9-390803c1d4f1",
   "metadata": {},
   "outputs": [],
   "source": [
    "training_stats = pd.read_csv(f'{base_path}{exec_id}_training_stats.csv')\n",
    "training_stats"
   ]
  },
  {
   "cell_type": "code",
   "execution_count": null,
   "id": "3cd03301-1744-4fea-9918-27daeb9dae55",
   "metadata": {},
   "outputs": [],
   "source": []
  }
 ],
 "metadata": {
  "kernelspec": {
   "display_name": "Python 3 (ipykernel)",
   "language": "python",
   "name": "python3"
  },
  "language_info": {
   "codemirror_mode": {
    "name": "ipython",
    "version": 3
   },
   "file_extension": ".py",
   "mimetype": "text/x-python",
   "name": "python",
   "nbconvert_exporter": "python",
   "pygments_lexer": "ipython3",
   "version": "3.8.5"
  }
 },
 "nbformat": 4,
 "nbformat_minor": 5
}
